{
 "cells": [
  {
   "cell_type": "code",
   "execution_count": 1,
   "id": "5758d218",
   "metadata": {},
   "outputs": [
    {
     "name": "stdout",
     "output_type": "stream",
     "text": [
      "10 data dummy telah disimpan dalam dummy_data.txt.\n"
     ]
    }
   ],
   "source": [
    "from faker import Faker\n",
    "\n",
    "fake = Faker()\n",
    "\n",
    "jumlah_data = 10\n",
    "dummy_data = []\n",
    "\n",
    "for _ in range(jumlah_data):\n",
    "    nama = fake.name()\n",
    "    nomor_telepon = fake.phone_number()\n",
    "    alamat = fake.address()\n",
    "    email = fake.email()\n",
    "    data = f\"Nama: {nama}\\nNomor Telepon: {nomor_telepon}\\nAlamat:{alamat}\\nEmail: {email}\\n\"\n",
    "    dummy_data.append(data)\n",
    "\n",
    "file_name = \"dummy_data.txt\"\n",
    "with open(file_name, \"w\") as file:\n",
    "    for data in dummy_data:\n",
    "        file.write(data + \"\\n\")\n",
    "\n",
    "print(f\"{jumlah_data} data dummy telah disimpan dalam {file_name}.\")"
   ]
  },
  {
   "cell_type": "code",
   "execution_count": 2,
   "id": "52869360",
   "metadata": {},
   "outputs": [
    {
     "name": "stdout",
     "output_type": "stream",
     "text": [
      "['cherylramos@example.com', 'reynoldssean@example.org', 'gary97@example.com', 'irussell@example.org', 'matthew96@example.net', 'hoganalexander@example.net', 'suttongary@example.com', 'frederickangela@example.net', 'pamela03@example.com', 'april25@example.com']\n"
     ]
    }
   ],
   "source": [
    "import re\n",
    "\n",
    "pattern = r\"[a-zA-Z0-9_.+-]+@[a-zA-Z0-9-]+\\.[a-zA-Z.]+\"\n",
    "\n",
    "with open(\"dummy_data.txt\", \"r\") as f:\n",
    "    data = f.readlines()\n",
    "\n",
    "emails = []\n",
    "\n",
    "for line in data:\n",
    "    match = re.search(pattern, line)\n",
    "    if match:\n",
    "        emails.append(match.group())\n",
    "print(emails)"
   ]
  },
  {
   "cell_type": "code",
   "execution_count": 3,
   "id": "3191a4c1",
   "metadata": {},
   "outputs": [
    {
     "data": {
      "text/plain": [
       "['14144763110',\n",
       " '4377236824',\n",
       " '13323792077',\n",
       " '19036121656',\n",
       " '906',\n",
       " '12966359093',\n",
       " '9258600894',\n",
       " '0015143306890',\n",
       " '17622230443',\n",
       " '12832915434']"
      ]
     },
     "execution_count": 3,
     "metadata": {},
     "output_type": "execute_result"
    }
   ],
   "source": [
    "with open(\"dummy_data.txt\", \"r\") as f:\n",
    "    teks = f.readlines()\n",
    "    text = \"\".join(teks)\n",
    "\n",
    "pola_nomor_telepon = r'Nomor Telepon:\\s+([\\d+()-]+)'\n",
    "nomor_telepon = re.findall(pola_nomor_telepon, text)\n",
    "\n",
    "nums = []\n",
    "\n",
    "for num in nomor_telepon:\n",
    "    num = re.sub(r'\\s+', '', num, flags=re.I)\n",
    "    \n",
    "    num = re.sub(r'\\W', '', num)\n",
    "    nums.append(num)\n",
    "    \n",
    "nums"
   ]
  },
  {
   "cell_type": "code",
   "execution_count": 4,
   "id": "ff5acb8b",
   "metadata": {},
   "outputs": [
    {
     "data": {
      "text/html": [
       "<div>\n",
       "<style scoped>\n",
       "    .dataframe tbody tr th:only-of-type {\n",
       "        vertical-align: middle;\n",
       "    }\n",
       "\n",
       "    .dataframe tbody tr th {\n",
       "        vertical-align: top;\n",
       "    }\n",
       "\n",
       "    .dataframe thead th {\n",
       "        text-align: right;\n",
       "    }\n",
       "</style>\n",
       "<table border=\"1\" class=\"dataframe\">\n",
       "  <thead>\n",
       "    <tr style=\"text-align: right;\">\n",
       "      <th></th>\n",
       "      <th>email</th>\n",
       "      <th>nomor_telepon</th>\n",
       "    </tr>\n",
       "  </thead>\n",
       "  <tbody>\n",
       "    <tr>\n",
       "      <th>0</th>\n",
       "      <td>cherylramos@example.com</td>\n",
       "      <td>14144763110</td>\n",
       "    </tr>\n",
       "    <tr>\n",
       "      <th>1</th>\n",
       "      <td>reynoldssean@example.org</td>\n",
       "      <td>4377236824</td>\n",
       "    </tr>\n",
       "    <tr>\n",
       "      <th>2</th>\n",
       "      <td>gary97@example.com</td>\n",
       "      <td>13323792077</td>\n",
       "    </tr>\n",
       "    <tr>\n",
       "      <th>3</th>\n",
       "      <td>irussell@example.org</td>\n",
       "      <td>19036121656</td>\n",
       "    </tr>\n",
       "    <tr>\n",
       "      <th>4</th>\n",
       "      <td>matthew96@example.net</td>\n",
       "      <td>906</td>\n",
       "    </tr>\n",
       "    <tr>\n",
       "      <th>5</th>\n",
       "      <td>hoganalexander@example.net</td>\n",
       "      <td>12966359093</td>\n",
       "    </tr>\n",
       "    <tr>\n",
       "      <th>6</th>\n",
       "      <td>suttongary@example.com</td>\n",
       "      <td>9258600894</td>\n",
       "    </tr>\n",
       "    <tr>\n",
       "      <th>7</th>\n",
       "      <td>frederickangela@example.net</td>\n",
       "      <td>0015143306890</td>\n",
       "    </tr>\n",
       "    <tr>\n",
       "      <th>8</th>\n",
       "      <td>pamela03@example.com</td>\n",
       "      <td>17622230443</td>\n",
       "    </tr>\n",
       "    <tr>\n",
       "      <th>9</th>\n",
       "      <td>april25@example.com</td>\n",
       "      <td>12832915434</td>\n",
       "    </tr>\n",
       "  </tbody>\n",
       "</table>\n",
       "</div>"
      ],
      "text/plain": [
       "                         email  nomor_telepon\n",
       "0      cherylramos@example.com    14144763110\n",
       "1     reynoldssean@example.org     4377236824\n",
       "2           gary97@example.com    13323792077\n",
       "3         irussell@example.org    19036121656\n",
       "4        matthew96@example.net            906\n",
       "5   hoganalexander@example.net    12966359093\n",
       "6       suttongary@example.com     9258600894\n",
       "7  frederickangela@example.net  0015143306890\n",
       "8         pamela03@example.com    17622230443\n",
       "9          april25@example.com    12832915434"
      ]
     },
     "execution_count": 4,
     "metadata": {},
     "output_type": "execute_result"
    }
   ],
   "source": [
    "import pandas as pd\n",
    "pd.DataFrame({\"email\": emails, \"nomor_telepon\": nums})"
   ]
  }
 ],
 "metadata": {
  "kernelspec": {
   "display_name": "Python 3 (ipykernel)",
   "language": "python",
   "name": "python3"
  },
  "language_info": {
   "codemirror_mode": {
    "name": "ipython",
    "version": 3
   },
   "file_extension": ".py",
   "mimetype": "text/x-python",
   "name": "python",
   "nbconvert_exporter": "python",
   "pygments_lexer": "ipython3",
   "version": "3.10.9"
  }
 },
 "nbformat": 4,
 "nbformat_minor": 5
}
